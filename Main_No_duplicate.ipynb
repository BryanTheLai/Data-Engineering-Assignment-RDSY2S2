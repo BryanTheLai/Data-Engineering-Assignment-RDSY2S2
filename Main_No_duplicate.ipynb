{
 "cells": [
  {
   "cell_type": "code",
   "execution_count": 1,
   "id": "4dc8f13f-4184-4f53-aa29-db6d51b56205",
   "metadata": {},
   "outputs": [],
   "source": [
    "%run UtilsCleaner.py"
   ]
  },
  {
   "cell_type": "code",
   "execution_count": 2,
   "id": "6d47abf2-a9a5-4b56-a08c-9320cf5b9bf7",
   "metadata": {},
   "outputs": [
    {
     "name": "stderr",
     "output_type": "stream",
     "text": [
      "24/12/16 14:18:29 WARN Utils: Your hostname, Qing-Laptop. resolves to a loopback address: 127.0.1.1; using 10.255.255.254 instead (on interface lo)\n",
      "24/12/16 14:18:29 WARN Utils: Set SPARK_LOCAL_IP if you need to bind to another address\n",
      "Setting default log level to \"WARN\".\n",
      "To adjust logging level use sc.setLogLevel(newLevel). For SparkR, use setLogLevel(newLevel).\n",
      "24/12/16 14:18:30 WARN NativeCodeLoader: Unable to load native-hadoop library for your platform... using builtin-java classes where applicable\n",
      "                                                                                \r"
     ]
    },
    {
     "name": "stdout",
     "output_type": "stream",
     "text": [
      "Schema of the loaded DataFrame:\n",
      "root\n",
      " |-- Cochabamba0: string (nullable = true)\n",
      " |-- Cochabamba1: string (nullable = true)\n",
      "\n",
      "Combined Words:\n"
     ]
    },
    {
     "name": "stderr",
     "output_type": "stream",
     "text": [
      "24/12/16 14:18:43 WARN CSVHeaderChecker: CSV header does not conform to the schema.\n",
      " Header: Cochabamba\n",
      " Schema: Cochabamba0\n",
      "Expected: Cochabamba0 but found: Cochabamba\n",
      "CSV file: hdfs://localhost:9000/user/student/assignmentData/Data_Streaming/part-00000-9b9742d6-1cfb-4e10-be91-be5d09b95051-c000.csv\n"
     ]
    },
    {
     "name": "stdout",
     "output_type": "stream",
     "text": [
      "+----------+\n",
      "|      Word|\n",
      "+----------+\n",
      "|Cochabamba|\n",
      "|Cochabamba|\n",
      "|Cochabamba|\n",
      "|Cochabamba|\n",
      "|Cochabamba|\n",
      "|Cochabamba|\n",
      "|Cochabamba|\n",
      "|Cochabamba|\n",
      "|Cochabamba|\n",
      "|Cochabamba|\n",
      "+----------+\n",
      "only showing top 10 rows\n",
      "\n"
     ]
    },
    {
     "name": "stderr",
     "output_type": "stream",
     "text": [
      "24/12/16 14:18:43 WARN CSVHeaderChecker: CSV header does not conform to the schema.\n",
      " Header: Cochabamba\n",
      " Schema: Cochabamba0\n",
      "Expected: Cochabamba0 but found: Cochabamba\n",
      "CSV file: hdfs://localhost:9000/user/student/assignmentData/Data_Streaming/part-00000-9b9742d6-1cfb-4e10-be91-be5d09b95051-c000.csv\n"
     ]
    },
    {
     "name": "stdout",
     "output_type": "stream",
     "text": [
      "Combined Words Count: 138657\n"
     ]
    },
    {
     "name": "stderr",
     "output_type": "stream",
     "text": [
      "24/12/16 14:18:46 WARN CSVHeaderChecker: CSV header does not conform to the schema.\n",
      " Header: Cochabamba\n",
      " Schema: Cochabamba0\n",
      "Expected: Cochabamba0 but found: Cochabamba\n",
      "CSV file: hdfs://localhost:9000/user/student/assignmentData/Data_Streaming/part-00000-9b9742d6-1cfb-4e10-be91-be5d09b95051-c000.csv\n",
      "                                                                                \r"
     ]
    },
    {
     "name": "stdout",
     "output_type": "stream",
     "text": [
      "Distinct Cleaned Combined Words:\n"
     ]
    },
    {
     "name": "stderr",
     "output_type": "stream",
     "text": [
      "24/12/16 14:18:49 WARN CSVHeaderChecker: CSV header does not conform to the schema.\n",
      " Header: Cochabamba\n",
      " Schema: Cochabamba0\n",
      "Expected: Cochabamba0 but found: Cochabamba\n",
      "CSV file: hdfs://localhost:9000/user/student/assignmentData/Data_Streaming/part-00000-9b9742d6-1cfb-4e10-be91-be5d09b95051-c000.csv\n",
      "                                                                                \r"
     ]
    },
    {
     "name": "stdout",
     "output_type": "stream",
     "text": [
      "+---------------+\n",
      "|   Cleaned_Word|\n",
      "+---------------+\n",
      "|         hingga|\n",
      "|        kemarau|\n",
      "|       generasi|\n",
      "|      teknologi|\n",
      "|       menyusut|\n",
      "|          tapak|\n",
      "|      arkeologi|\n",
      "|          monte|\n",
      "|         tumbuh|\n",
      "|         engkau|\n",
      "|       sabdanya|\n",
      "|          najis|\n",
      "|   diselenggara|\n",
      "|  dianugerahkan|\n",
      "|       semangat|\n",
      "|     penjenayah|\n",
      "|         online|\n",
      "|          hanna|\n",
      "|          kekal|\n",
      "|      pertanian|\n",
      "|      astronomi|\n",
      "|     pengusiran|\n",
      "|       memegang|\n",
      "|        finland|\n",
      "|        berkait|\n",
      "|       perayaan|\n",
      "|         darius|\n",
      "|           wali|\n",
      "|        sumeria|\n",
      "|   kediktatoran|\n",
      "| pegawaipegawai|\n",
      "|        terdiri|\n",
      "|       rankings|\n",
      "|         tarian|\n",
      "|      arriagada|\n",
      "|      pemilihan|\n",
      "|          rossa|\n",
      "|      arecaceae|\n",
      "|    pengeksport|\n",
      "|      greenland|\n",
      "|       denpasar|\n",
      "|       dagangan|\n",
      "|            cia|\n",
      "|         antara|\n",
      "|       portugal|\n",
      "|ketidakstabilan|\n",
      "|   antarabangsa|\n",
      "|      statistik|\n",
      "|      kebolehan|\n",
      "|       terpisah|\n",
      "+---------------+\n",
      "only showing top 50 rows\n",
      "\n"
     ]
    },
    {
     "name": "stderr",
     "output_type": "stream",
     "text": [
      "24/12/16 14:18:51 WARN CSVHeaderChecker: CSV header does not conform to the schema.\n",
      " Header: Cochabamba\n",
      " Schema: Cochabamba0\n",
      "Expected: Cochabamba0 but found: Cochabamba\n",
      "CSV file: hdfs://localhost:9000/user/student/assignmentData/Data_Streaming/part-00000-9b9742d6-1cfb-4e10-be91-be5d09b95051-c000.csv\n",
      "24/12/16 14:18:53 WARN CSVHeaderChecker: CSV header does not conform to the schema.\n",
      " Header: Cochabamba\n",
      " Schema: Cochabamba0\n",
      "Expected: Cochabamba0 but found: Cochabamba\n",
      "CSV file: hdfs://localhost:9000/user/student/assignmentData/Data_Streaming/part-00000-9b9742d6-1cfb-4e10-be91-be5d09b95051-c000.csv\n"
     ]
    },
    {
     "name": "stdout",
     "output_type": "stream",
     "text": [
      "Distinct Cleaned Combined Words Count: 2627\n"
     ]
    },
    {
     "name": "stderr",
     "output_type": "stream",
     "text": [
      "                                                                                \r"
     ]
    },
    {
     "name": "stdout",
     "output_type": "stream",
     "text": [
      "Processed data saved to assignmentData/clean_words_data_csv\n"
     ]
    }
   ],
   "source": [
    "%run clean_words_data.py"
   ]
  }
 ],
 "metadata": {
  "kernelspec": {
   "display_name": "Python 3 (ipykernel)",
   "language": "python",
   "name": "python3"
  },
  "language_info": {
   "codemirror_mode": {
    "name": "ipython",
    "version": 3
   },
   "file_extension": ".py",
   "mimetype": "text/x-python",
   "name": "python",
   "nbconvert_exporter": "python",
   "pygments_lexer": "ipython3",
   "version": "3.10.12"
  }
 },
 "nbformat": 4,
 "nbformat_minor": 5
}
