{
 "cells": [
  {
   "cell_type": "code",
   "execution_count": 3,
   "id": "b681126e-f2a9-4ed9-bd80-9527d7f46460",
   "metadata": {},
   "outputs": [
    {
     "name": "stdout",
     "output_type": "stream",
     "text": [
      "+----------------+--------------------+-------------------+-----------------+---------------+---------+\n",
      "|            word|          definition|            antonym|          synonym|     tatabahasa|sentiment|\n",
      "+----------------+--------------------+-------------------+-----------------+---------------+---------+\n",
      "|  \"pengangkutan\"|\"Pergerakan baran...|\"ketidakbergerakan\"|   \"pengangkutan\"|    \"kata nama\"|    \"0.0\"|\n",
      "|      \"pengarah\"|\"Seseorang yang m...|         \"pengikut\"|          \"ketua\"|    \"kata nama\"|    \"0.0\"|\n",
      "|      \"pengasas\"|\"Orang yang menub...|       \"penghancur\"|       \"pengasas\"|    \"kata nama\"|    \"0.5\"|\n",
      "|      \"pengawal\"|\"Seseorang atau s...|        \"penyerang\"|       \"pengawal\"|    \"kata nama\"|    \"0.0\"|\n",
      "|  \"pengecualian\"|\"Perkara yang dib...|       \"pengikatan\"|   \"pengecualian\"|    \"kata nama\"|    \"0.0\"|\n",
      "|      \"pengemis\"|\"Seseorang yang m...|          \"pemberi\"|       \"pengemis\"|    \"kata nama\"|   \"-0.5\"|\n",
      "|     \"pengerusi\"|\"Seseorang yang m...|         \"pengikut\"|      \"pengerusi\"|    \"kata nama\"|    \"0.0\"|\n",
      "|      \"pengguna\"|\"Seseorang yang m...|  \"tidak diketahui\"|       \"pengguna\"|    \"kata nama\"|    \"0.0\"|\n",
      "|      \"pengikut\"|\"Seseorang yang m...|        \"penentang\"|       \"pengikut\"|    \"kata nama\"|    \"0.0\"|\n",
      "|   \"pengikutdan\"|\"Seseorang yang m...|        \"penentang\"|       \"pengikut\"|    \"kata nama\"|    \"0.0\"|\n",
      "|\"pengikuttetapi\"|\"Seseorang yang m...|  \"tidak diketahui\"|       \"pengikut\"|    \"kata nama\"|    \"0.0\"|\n",
      "|     \"pengiring\"|\"Seseorang yang m...|  \"tidak diketahui\"|      \"pengiring\"|    \"kata nama\"|    \"0.0\"|\n",
      "|   \"pengurangan\"|\"Tindakan mengura...|      \"peningkatan\"|    \"pengurangan\"|   \"kata kerja\"|   \"-0.2\"|\n",
      "|       \"peniaga\"|\"Seseorang yang m...|        \"pelanggan\"|        \"peniaga\"|    \"kata nama\"|    \"0.0\"|\n",
      "|        \"pening\"|\"Berasa pening at...|  \"tidak diketahui\"|\"tidak diketahui\"|\"kata adjektif\"|   \"-0.7\"|\n",
      "|   \"peningkatan\"|\"Perkembangan ata...|        \"penurunan\"|       \"kemajuan\"|    \"kata nama\"|    \"0.7\"|\n",
      "|     \"penjagaan\"|\"Perawatan atau p...|       \"pengabaian\"|   \"pemeliharaan\"|    \"kata nama\"|    \"0.5\"|\n",
      "|      \"penjawat\"|\"Seseorang yang m...|  \"tidak diketahui\"|       \"penjawat\"|    \"kata nama\"|    \"0.0\"|\n",
      "|     \"penjualan\"|\"Proses menjual s...|        \"pembelian\"|      \"penjualan\"|    \"kata nama\"|    \"0.0\"|\n",
      "|   \"pentadbiran\"|\"Proses mengurus ...|    \"ketidakaturan\"|     \"pengurusan\"|    \"kata nama\"|    \"0.0\"|\n",
      "+----------------+--------------------+-------------------+-----------------+---------------+---------+\n",
      "only showing top 20 rows\n",
      "\n",
      "Output of word_details_csv_cleaned.show(20): None\n",
      "Populating Neo4J\n",
      "Total Nodes: 3210\n"
     ]
    }
   ],
   "source": [
    "from pyspark.sql import SparkSession\n",
    "from UtilsNeo4J import setup_neo4j_driver, insert_into_neo4j, process_data\n",
    "import redis\n",
    "# PySpark setup\n",
    "spark = SparkSession.builder \\\n",
    "    .appName(\"Populate Neo4j\") \\\n",
    "    .getOrCreate()\n",
    "\n",
    "# Load data\n",
    "word_details_csv_cleaned = spark.read.csv(\"assignData/word_details_csv_cleaned\", header=True)\n",
    "data = word_details_csv_cleaned.collect()\n",
    "print(f\"Output of word_details_csv_cleaned.show(20): {word_details_csv_cleaned.show(20)}\")\n",
    "\n",
    "# Setup Neo4j and Redis\n",
    "driver = setup_neo4j_driver(\n",
    "    uri=\"neo4j+s://f2d488e8.databases.neo4j.io\",\n",
    "    user=\"neo4j\",\n",
    "    password=\"EEftBBSnXlP8rzseU038drph7Ue5SzVVxDvlX2kL2y8\"  # Remember to replace!\n",
    ")\n",
    "\n",
    "redis_client = redis.StrictRedis(host='localhost', port=6379, db=0, decode_responses=True)\n",
    "\n",
    "# Process data\n",
    "process_data(driver, redis_client, data)\n",
    "\n",
    "# Query Neo4j for total nodes\n",
    "with driver.session() as session:\n",
    "    query = \"MATCH (n) RETURN count(n) as totalNodes\"\n",
    "    result = session.run(query)\n",
    "    for record in result:\n",
    "        print(f\"Total Nodes: {record['totalNodes']}\")"
   ]
  },
  {
   "cell_type": "code",
   "execution_count": null,
   "id": "040d8353-3314-42dc-9b51-6c084341519a",
   "metadata": {},
   "outputs": [],
   "source": []
  }
 ],
 "metadata": {
  "kernelspec": {
   "display_name": "de-venv",
   "language": "python",
   "name": "de-venv"
  },
  "language_info": {
   "codemirror_mode": {
    "name": "ipython",
    "version": 3
   },
   "file_extension": ".py",
   "mimetype": "text/x-python",
   "name": "python",
   "nbconvert_exporter": "python",
   "pygments_lexer": "ipython3",
   "version": "3.10.12"
  }
 },
 "nbformat": 4,
 "nbformat_minor": 5
}
