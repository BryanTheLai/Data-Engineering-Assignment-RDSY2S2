{
 "cells": [
  {
   "cell_type": "code",
   "execution_count": 1,
   "id": "3def0166-76ab-403e-8e16-54099f0ef8cc",
   "metadata": {},
   "outputs": [
    {
     "name": "stdout",
     "output_type": "stream",
     "text": [
      "\n",
      " ************************************************************** \n",
      "    Welcome To Use Our Lexicon Maintenance and Update System :)  \n",
      "*****************************************************************\n",
      "\n",
      "1. Search Word Relationships\n",
      "2. Add or Update Word Manually\n",
      "3. Correct Error Word\n",
      "4. Exit\n"
     ]
    },
    {
     "name": "stdin",
     "output_type": "stream",
     "text": [
      "Choose an option:  1\n",
      "Enter word to search:  Makan\n"
     ]
    },
    {
     "name": "stdout",
     "output_type": "stream",
     "text": [
      "Word: Makan, Relationship: HAS_SYNONYM, Related Word: Menjamu \n",
      "Word: Makan, Relationship: HAS_ANTONYM, Related Word: puasa\n",
      "Word: Makan, Relationship: HAS_HYPERNYM, Related Word: perbuatan\n",
      "Word: Makan, Relationship: HAS_HYPONYM, Related Word: Makan tengah hari\n",
      "Word: Makan, Relationship: HAS_MERONYM, Related Word: Mulut\n",
      "Word: Makan, Relationship: HAS_HOLONYM, Related Word: Aktiviti harian\n",
      "\n",
      " ************************************************************** \n",
      "    Welcome To Use Our Lexicon Maintenance and Update System :)  \n",
      "*****************************************************************\n",
      "\n",
      "1. Search Word Relationships\n",
      "2. Add or Update Word Manually\n",
      "3. Correct Error Word\n",
      "4. Exit\n"
     ]
    },
    {
     "name": "stdin",
     "output_type": "stream",
     "text": [
      "Choose an option:  3\n",
      "Word to correct (or 'exit' to quit):  Makan\n",
      "Correct word:  makan\n"
     ]
    },
    {
     "name": "stdout",
     "output_type": "stream",
     "text": [
      "Word 'Makan' successfully corrected to 'makan'.\n"
     ]
    },
    {
     "name": "stdin",
     "output_type": "stream",
     "text": [
      "Word to correct (or 'exit' to quit):  exit\n"
     ]
    },
    {
     "name": "stdout",
     "output_type": "stream",
     "text": [
      "\n",
      " ************************************************************** \n",
      "    Welcome To Use Our Lexicon Maintenance and Update System :)  \n",
      "*****************************************************************\n",
      "\n",
      "1. Search Word Relationships\n",
      "2. Add or Update Word Manually\n",
      "3. Correct Error Word\n",
      "4. Exit\n"
     ]
    },
    {
     "name": "stdin",
     "output_type": "stream",
     "text": [
      "Choose an option:  4\n"
     ]
    },
    {
     "name": "stdout",
     "output_type": "stream",
     "text": [
      "Goodbye!\n"
     ]
    }
   ],
   "source": [
    "from Lexicon_Processing_Tools import LexiconDBManager, WordTranslator, LexiconInterface\n",
    "\n",
    "# Example usage\n",
    "if __name__ == \"__main__\":\n",
    "    uri = \"neo4j+s://b990be73.databases.neo4j.io\"\n",
    "    user = \"neo4j\"\n",
    "    password = \"Y-LT7VSsIzhqouw27EuL9evL1t1m5vS1bT4OIsBOkxI\"\n",
    "    db_manager = LexiconDBManager(uri, user, password)\n",
    "    translator = WordTranslator()\n",
    "    cli = LexiconInterface(db_manager, translator)\n",
    "\n",
    "    try:\n",
    "        cli.run()\n",
    "    finally:\n",
    "        db_manager.disconnect()\n"
   ]
  },
  {
   "cell_type": "code",
   "execution_count": null,
   "id": "1366a2f6-6751-40e6-acc5-fd21b5b316fa",
   "metadata": {},
   "outputs": [],
   "source": []
  }
 ],
 "metadata": {
  "kernelspec": {
   "display_name": "de-venv",
   "language": "python",
   "name": "de-venv"
  },
  "language_info": {
   "codemirror_mode": {
    "name": "ipython",
    "version": 3
   },
   "file_extension": ".py",
   "mimetype": "text/x-python",
   "name": "python",
   "nbconvert_exporter": "python",
   "pygments_lexer": "ipython3",
   "version": "3.10.12"
  }
 },
 "nbformat": 4,
 "nbformat_minor": 5
}
