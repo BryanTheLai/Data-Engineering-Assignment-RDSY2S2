{
 "cells": [
  {
   "cell_type": "code",
   "execution_count": null,
   "id": "f7988cff-0d86-44a8-9d22-d46d351dcf43",
   "metadata": {},
   "outputs": [
    {
     "name": "stdout",
     "output_type": "stream",
     "text": [
      "Streaming job started. Writing data to: assignmentData/Data_Streaming\n"
     ]
    },
    {
     "name": "stderr",
     "output_type": "stream",
     "text": [
      "                                                                                \r"
     ]
    }
   ],
   "source": [
    "from pyspark.sql import SparkSession\n",
    "from pyspark.sql.functions import explode, split, col, regexp_replace\n",
    "import os\n",
    "\n",
    "class WikipediaStreamingProcessor:\n",
    "    def __init__(self, app_name: str):\n",
    "        self.spark = SparkSession.builder \\\n",
    "            .appName(app_name) \\\n",
    "            .config(\"spark.sql.streaming.schemaInference\", \"true\") \\\n",
    "            .config(\"spark.sql.adaptive.enabled\", \"false\") \\\n",
    "            .getOrCreate()\n",
    "\n",
    "    def process_streaming_data(self, input_dir: str, output_dir: str):\n",
    "        # Read the streaming data from the input directory\n",
    "        streaming_df = self.spark.readStream \\\n",
    "            .format(\"csv\") \\\n",
    "            .option(\"header\", \"true\") \\\n",
    "            .option(\"inferSchema\", \"true\") \\\n",
    "            .load(input_dir)\n",
    "\n",
    "        # Ensure necessary columns are present\n",
    "        if \"Title\" not in streaming_df.columns or \"Cleaned_Word\" not in streaming_df.columns:\n",
    "            raise ValueError(\"Input CSV must contain 'Title' and 'Cleaned_Word' columns.\")\n",
    "\n",
    "        # Perform further processing if needed (e.g., filtering, transformations)\n",
    "        processed_df = streaming_df.select(\"Title\", \"Cleaned_Word\")\n",
    "\n",
    "        # Write the streaming results to the output directory\n",
    "        query = processed_df.writeStream \\\n",
    "            .format(\"csv\") \\\n",
    "            .option(\"path\", output_dir) \\\n",
    "            .option(\"checkpointLocation\", f\"{output_dir}/checkpoint\") \\\n",
    "            .outputMode(\"append\") \\\n",
    "            .start()\n",
    "\n",
    "        print(f\"Streaming job started. Writing data to: {output_dir}\")\n",
    "\n",
    "        # Block and wait for the streaming to finish\n",
    "        query.awaitTermination()\n",
    "\n",
    "        # Verify if files are written to the output directory\n",
    "        if os.path.exists(output_dir) and os.listdir(output_dir):\n",
    "            print(f\"Files saved successfully in {output_dir}.\")\n",
    "        else:\n",
    "            print(f\"No files were saved in {output_dir}.\")\n",
    "\n",
    "# Main function\n",
    "def main():\n",
    "    processor = WikipediaStreamingProcessor(\"WikipediaStreamingProcessor\")\n",
    "    input_dir = \"assignmentData/wikipedia_articles_tokenized.csv\"  # Directory for tokenized input\n",
    "    output_dir = \"assignmentData/Data_Streaming\"  # Directory to save streaming output\n",
    "    processor.process_streaming_data(input_dir, output_dir)\n",
    "\n",
    "if __name__ == \"__main__\":\n",
    "    main()\n"
   ]
  },
  {
   "cell_type": "code",
   "execution_count": null,
   "id": "54457d71-6c59-47ab-a657-c32a0fc721db",
   "metadata": {},
   "outputs": [],
   "source": []
  }
 ],
 "metadata": {
  "kernelspec": {
   "display_name": "Python 3 (ipykernel)",
   "language": "python",
   "name": "python3"
  },
  "language_info": {
   "codemirror_mode": {
    "name": "ipython",
    "version": 3
   },
   "file_extension": ".py",
   "mimetype": "text/x-python",
   "name": "python",
   "nbconvert_exporter": "python",
   "pygments_lexer": "ipython3",
   "version": "3.10.12"
  }
 },
 "nbformat": 4,
 "nbformat_minor": 5
}
