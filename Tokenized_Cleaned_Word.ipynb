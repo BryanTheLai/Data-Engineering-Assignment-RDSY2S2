{
 "cells": [
  {
   "cell_type": "code",
   "execution_count": 3,
   "id": "d19f860d-590e-4c3b-8337-44d3e02ce539",
   "metadata": {},
   "outputs": [
    {
     "name": "stdout",
     "output_type": "stream",
     "text": [
      "Displaying tokenized content:\n",
      "+----------+------------+\n",
      "|Title     |Cleaned_Word|\n",
      "+----------+------------+\n",
      "|Cochabamba|Cochabamba  |\n",
      "|Cochabamba|ialah       |\n",
      "|Cochabamba|sebuah      |\n",
      "|Cochabamba|bandar      |\n",
      "|Cochabamba|raya        |\n",
      "|Cochabamba|di          |\n",
      "|Cochabamba|pertengahan |\n",
      "|Cochabamba|Bolivia     |\n",
      "|Cochabamba|yang        |\n",
      "|Cochabamba|terletak    |\n",
      "|Cochabamba|di          |\n",
      "|Cochabamba|lembah      |\n",
      "|Cochabamba|yang        |\n",
      "|Cochabamba|mempunyai   |\n",
      "|Cochabamba|nama        |\n",
      "|Cochabamba|yang        |\n",
      "|Cochabamba|sama        |\n",
      "|Cochabamba|di          |\n",
      "|Cochabamba|Banjaran    |\n",
      "|Cochabamba|Andes.      |\n",
      "+----------+------------+\n",
      "only showing top 20 rows\n",
      "\n",
      "Tokenized data saved to assignmentData/wikipedia_articles_tokenized.csv\n"
     ]
    }
   ],
   "source": [
    "from pyspark.sql import SparkSession\n",
    "from pyspark.sql.functions import explode, split, col, regexp_replace\n",
    "\n",
    "class WikipediaCSVProcessor:\n",
    "    def __init__(self, app_name: str):\n",
    "        self.spark = SparkSession.builder.appName(app_name).getOrCreate()\n",
    "\n",
    "    def tokenize_csv_content(self, input_path: str, output_path: str):\n",
    "        # Read the CSV file into a DataFrame\n",
    "        articles_df = self.spark.read.format(\"csv\").option(\"header\", \"true\").load(input_path)\n",
    "\n",
    "        # Ensure necessary columns are present\n",
    "        if \"Content\" not in articles_df.columns or \"Title\" not in articles_df.columns:\n",
    "            raise ValueError(\"Input CSV must contain 'Title' and 'Content' columns.\")\n",
    "\n",
    "        # Remove unwanted symbols and tokenize into individual words\n",
    "        tokenized_df = articles_df.withColumn(\n",
    "            \"Cleaned_Word\",\n",
    "            explode(\n",
    "                split(\n",
    "                    regexp_replace(col(\"Content\"), r\"[,\\\"\\'\\\\-]\", \"\"),  # Remove specific symbols: , \" ' -\n",
    "                    \"\\\\s+\"  # Split by whitespace\n",
    "                )\n",
    "            )\n",
    "        ).select(\"Title\", \"Cleaned_Word\")\n",
    "\n",
    "        # Show tokenized content\n",
    "        print(\"Displaying tokenized content:\")\n",
    "        tokenized_df.show(truncate=False)\n",
    "\n",
    "        # Save the tokenized content to a new CSV file\n",
    "        tokenized_df.write.format(\"csv\").mode(\"overwrite\").option(\"header\", \"true\").save(output_path)\n",
    "        print(f\"Tokenized data saved to {output_path}\")\n",
    "\n",
    "# Main function\n",
    "def main():\n",
    "    processor = WikipediaCSVProcessor(\"WikipediaCSVProcessor\")\n",
    "    input_path = \"assignmentData/wikipedia_articles_top50.csv\"  # Path to the input CSV file\n",
    "    output_path = \"assignmentData/wikipedia_articles_tokenized.csv\"  # Path to save the tokenized CSV file\n",
    "    processor.tokenize_csv_content(input_path, output_path)\n",
    "\n",
    "if __name__ == \"__main__\":\n",
    "    main()\n"
   ]
  },
  {
   "cell_type": "code",
   "execution_count": null,
   "id": "d56b59b1-44fc-41ed-8260-572cefa3e8f8",
   "metadata": {},
   "outputs": [],
   "source": []
  }
 ],
 "metadata": {
  "kernelspec": {
   "display_name": "Python 3 (ipykernel)",
   "language": "python",
   "name": "python3"
  },
  "language_info": {
   "codemirror_mode": {
    "name": "ipython",
    "version": 3
   },
   "file_extension": ".py",
   "mimetype": "text/x-python",
   "name": "python",
   "nbconvert_exporter": "python",
   "pygments_lexer": "ipython3",
   "version": "3.10.12"
  }
 },
 "nbformat": 4,
 "nbformat_minor": 5
}
