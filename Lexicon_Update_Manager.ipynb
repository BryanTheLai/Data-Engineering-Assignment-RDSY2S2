{
 "cells": [
  {
   "cell_type": "code",
   "execution_count": null,
   "id": "3def0166-76ab-403e-8e16-54099f0ef8cc",
   "metadata": {},
   "outputs": [],
   "source": [
    "from Function import Neo4jLexiconManager, TranslatorService, LexiconCLI\n",
    "\n",
    "# Example usage\n",
    "if __name__ == \"__main__\":\n",
    "    uri = \"neo4j+s://b990be73.databases.neo4j.io\"\n",
    "    user = \"neo4j\"\n",
    "    password = \"Y-LT7VSsIzhqouw27EuL9evL1t1m5vS1bT4OIsBOkxI\"\n",
    "    neo4j_manager = Neo4jLexiconManager(uri, user, password)\n",
    "    translator = TranslatorService()\n",
    "    cli = LexiconCLI(neo4j_manager, translator)\n",
    "\n",
    "    try:\n",
    "        cli.main_menu()\n",
    "    finally:\n",
    "        neo4j_manager.close()\n"
   ]
  }
 ],
 "metadata": {
  "kernelspec": {
   "display_name": "de-venv",
   "language": "python",
   "name": "de-venv"
  },
  "language_info": {
   "codemirror_mode": {
    "name": "ipython",
    "version": 3
   },
   "file_extension": ".py",
   "mimetype": "text/x-python",
   "name": "python",
   "nbconvert_exporter": "python",
   "pygments_lexer": "ipython3",
   "version": "3.10.12"
  }
 },
 "nbformat": 4,
 "nbformat_minor": 5
}
